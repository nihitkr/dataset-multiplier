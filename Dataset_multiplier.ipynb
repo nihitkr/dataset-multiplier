{
 "cells": [
  {
   "cell_type": "code",
   "execution_count": 3,
   "metadata": {},
   "outputs": [],
   "source": [
    "from keras.preprocessing.image import ImageDataGenerator, array_to_img, img_to\n",
    "_array, load_img\n",
    "import os"
   ]
  },
  {
   "cell_type": "code",
   "execution_count": 4,
   "metadata": {},
   "outputs": [],
   "source": [
    "#Replicating an image into different orientations and angles\n",
    "datagen = ImageDataGenerator(\n",
    "        rotation_range=40,\n",
    "        width_shift_range=0.2,\n",
    "        height_shift_range=0.2,\n",
    "        rescale=1./255,\n",
    "        shear_range=0.2,\n",
    "        zoom_range=0.2,\n",
    "        fill_mode='nearest')"
   ]
  },
  {
   "cell_type": "code",
   "execution_count": 5,
   "metadata": {},
   "outputs": [
    {
     "data": {
      "text/plain": [
       "['2.1.01_Default.png',\n",
       " '2.1.05_Jagannatha.png',\n",
       " '2.1.06_LohitOdia.png',\n",
       " '2.1.07_BB-Reg.png',\n",
       " '2.1.08_BB2-SB.png',\n",
       " '2.1.09_BB2-Reg.png',\n",
       " '2.1.10_BB2-Med.png',\n",
       " '2.1.11_BB2-EB.png',\n",
       " '2.1.12_BB2-Bold.png',\n",
       " '2.1.13_Utkal.png',\n",
       " '2.1.14_SamyakOdia.png',\n",
       " '2.1.15_SakalBharati.png',\n",
       " '2.1.16_OTJagannathaN.png',\n",
       " '2.1.17_Ananta.png',\n",
       " '2.1.19_Konark.png',\n",
       " '2.1.20_Arialuni.png']"
      ]
     },
     "execution_count": 5,
     "metadata": {},
     "output_type": "execute_result"
    }
   ],
   "source": [
    "path = 'test/C12'\n",
    "arr = os.listdir(path)\n",
    "arr"
   ]
  },
  {
   "cell_type": "code",
   "execution_count": 6,
   "metadata": {},
   "outputs": [],
   "source": [
    "for image in arr:\n",
    "    img = load_img(os.path.join(path, image))\n",
    "    x = img_to_array(img)\n",
    "    x = x.reshape((1,) + x.shape)\n",
    "    \n",
    "    i=0\n",
    "    for batch in datagen.flow(x, batch_size=1, save_to_dir='train\\C12',\n",
    "                             save_prefix='C12_Kha', save_format='png'):\n",
    "        i += 1\n",
    "        if i>20:\n",
    "            break"
   ]
  },
  {
   "cell_type": "code",
   "execution_count": null,
   "metadata": {},
   "outputs": [],
   "source": []
  }
 ],
 "metadata": {
  "language_info": {
   "codemirror_mode": {
    "name": "ipython",
    "version": 3
   },
   "file_extension": ".py",
   "mimetype": "text/x-python",
   "name": "python",
   "nbconvert_exporter": "python",
   "pygments_lexer": "ipython3",
   "version": "3.8.8"
  }
 },
 "nbformat": 4,
 "nbformat_minor": 4
}